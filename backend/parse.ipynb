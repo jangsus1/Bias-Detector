{
 "cells": [
  {
   "cell_type": "code",
   "execution_count": 2,
   "metadata": {},
   "outputs": [],
   "source": [
    "from glob import glob\n",
    "import json\n",
    "from collections import Counter\n",
    "import os"
   ]
  },
  {
   "cell_type": "code",
   "execution_count": 3,
   "metadata": {},
   "outputs": [],
   "source": [
    "data = {\n",
    "    \"urbancars\": [\"urban\", \"country\"],\n",
    "    \"waterbirds\": [\"landbird\", \"waterbird\"]\n",
    "}"
   ]
  },
  {
   "cell_type": "code",
   "execution_count": 4,
   "metadata": {},
   "outputs": [],
   "source": [
    "for dataset, classes in data.items():\n",
    "    obj_json = {}\n",
    "    objects = {}\n",
    "    for classname in classes:\n",
    "        obj_json[classname] = {}\n",
    "        object_list = []\n",
    "        for folder in glob(f\"static/phanoptic/val/{classname}/*/\"):\n",
    "            filename = folder.replace(\"static/phanoptic/\", \"\")[:-1]+'.jpg'\n",
    "            obj_json[classname][filename] = {}\n",
    "            for file in glob(folder+'*'):\n",
    "                object = file.split('/')[-1].split('.')[0]\n",
    "                obj_json[classname][filename][object] = file\n",
    "                object_list.append(object)\n",
    "\n",
    "        object_list = Counter(object_list)\n",
    "        object_list = object_list.most_common()\n",
    "        object_list = [x[0] for x in object_list]\n",
    "        objects[classname] = object_list\n",
    "        \n",
    "    os.makedirs(dataset, exist_ok=True)\n",
    "        \n",
    "    with open(f'{dataset}/panoptic.json', 'w') as f:\n",
    "        json.dump(obj_json, f, indent=4)\n",
    "\n",
    "    with open(f'{dataset}/panoptic_categories.json', 'w') as f:\n",
    "        json.dump(objects, f, indent=4)"
   ]
  },
  {
   "cell_type": "code",
   "execution_count": null,
   "metadata": {},
   "outputs": [],
   "source": []
  }
 ],
 "metadata": {
  "kernelspec": {
   "display_name": "bias",
   "language": "python",
   "name": "python3"
  },
  "language_info": {
   "codemirror_mode": {
    "name": "ipython",
    "version": 3
   },
   "file_extension": ".py",
   "mimetype": "text/x-python",
   "name": "python",
   "nbconvert_exporter": "python",
   "pygments_lexer": "ipython3",
   "version": "3.8.12"
  }
 },
 "nbformat": 4,
 "nbformat_minor": 2
}
