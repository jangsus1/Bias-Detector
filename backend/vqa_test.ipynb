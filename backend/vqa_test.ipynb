{
 "cells": [
  {
   "cell_type": "code",
   "execution_count": 1,
   "metadata": {},
   "outputs": [
    {
     "ename": "NameError",
     "evalue": "name 'Image' is not defined",
     "output_type": "error",
     "traceback": [
      "\u001b[0;31m---------------------------------------------------------------------------\u001b[0m",
      "\u001b[0;31mNameError\u001b[0m                                 Traceback (most recent call last)",
      "Cell \u001b[0;32mIn[1], line 9\u001b[0m\n\u001b[1;32m      6\u001b[0m vqa_processor \u001b[38;5;241m=\u001b[39m BlipProcessor\u001b[38;5;241m.\u001b[39mfrom_pretrained(\u001b[38;5;124m\"\u001b[39m\u001b[38;5;124mSalesforce/blip-vqa-capfilt-large\u001b[39m\u001b[38;5;124m\"\u001b[39m)\n\u001b[1;32m      7\u001b[0m vqa_model \u001b[38;5;241m=\u001b[39m BlipForQuestionAnswering\u001b[38;5;241m.\u001b[39mfrom_pretrained(\u001b[38;5;124m\"\u001b[39m\u001b[38;5;124mSalesforce/blip-vqa-capfilt-large\u001b[39m\u001b[38;5;124m\"\u001b[39m)\u001b[38;5;241m.\u001b[39mto(\u001b[38;5;124m\"\u001b[39m\u001b[38;5;124mcuda:2\u001b[39m\u001b[38;5;124m\"\u001b[39m)\n\u001b[0;32m----> 9\u001b[0m image \u001b[38;5;241m=\u001b[39m \u001b[43mImage\u001b[49m\u001b[38;5;241m.\u001b[39mopen(\u001b[38;5;124m\"\u001b[39m\u001b[38;5;124m../Waterbirds/val/landbird/land_O_Acadian_Flycatcher_0036_795577.jpg\u001b[39m\u001b[38;5;124m\"\u001b[39m)\n\u001b[1;32m     11\u001b[0m prompt \u001b[38;5;241m=\u001b[39m \u001b[38;5;124m\"\u001b[39m\u001b[38;5;124mIs there a watermark in the image?\u001b[39m\u001b[38;5;124m\"\u001b[39m\n\u001b[1;32m     13\u001b[0m encoding \u001b[38;5;241m=\u001b[39m vqa_processor(image, prompt, return_tensors\u001b[38;5;241m=\u001b[39m\u001b[38;5;124m\"\u001b[39m\u001b[38;5;124mpt\u001b[39m\u001b[38;5;124m\"\u001b[39m)\u001b[38;5;241m.\u001b[39mto(\u001b[38;5;124m\"\u001b[39m\u001b[38;5;124mcuda:2\u001b[39m\u001b[38;5;124m\"\u001b[39m)\n",
      "\u001b[0;31mNameError\u001b[0m: name 'Image' is not defined"
     ]
    }
   ],
   "source": [
    "# from transformers import ViltProcessor, ViltForQuestionAnswering\n",
    "# vqa_processor = ViltProcessor.from_pretrained(\"dandelin/vilt-b32-finetuned-vqa\")\n",
    "# vqa_model = ViltForQuestionAnswering.from_pretrained(\"dandelin/vilt-b32-finetuned-vqa\").to(\"cuda:2\")\n",
    "from transformers import BlipProcessor, BlipForQuestionAnswering\n",
    "\n",
    "vqa_processor = BlipProcessor.from_pretrained(\"Salesforce/blip-vqa-capfilt-large\")\n",
    "vqa_model = BlipForQuestionAnswering.from_pretrained(\"Salesforce/blip-vqa-capfilt-large\").to(\"cuda:2\")\n",
    "\n"
   ]
  },
  {
   "cell_type": "code",
   "execution_count": 18,
   "metadata": {},
   "outputs": [
    {
     "name": "stdout",
     "output_type": "stream",
     "text": [
      "../Waterbirds/val/landbird/land_O_Yellow_Throated_Vireo_0005_159588.jpg yes\n",
      "../Waterbirds/val/landbird/land_O_Palm_Warbler_0077_169042.jpg yes\n",
      "../Waterbirds/val/landbird/land_O_Vermilion_Flycatcher_0057_42562.jpg yes\n",
      "../Waterbirds/val/landbird/land_O_Whip_Poor_Will_0036_100399.jpg yes\n",
      "../Waterbirds/val/landbird/land_O_Chipping_Sparrow_0016_109051.jpg yes\n",
      "../Waterbirds/val/landbird/land_O_Tennessee_Warbler_0038_174760.jpg yes\n",
      "../Waterbirds/val/landbird/land_O_Ruby_Throated_Hummingbird_0075_57537.jpg yes\n",
      "../Waterbirds/val/landbird/land_O_Blue_Winged_Warbler_0050_162057.jpg yes\n",
      "../Waterbirds/val/landbird/land_O_Northern_Flicker_0094_28726.jpg yes\n",
      "../Waterbirds/val/landbird/land_O_Gray_Kingbird_0077_70191.jpg yes\n"
     ]
    }
   ],
   "source": [
    "from PIL import Image\n",
    "from glob import glob\n",
    "\n",
    "for image_path in glob(\"../Waterbirds/val/landbird/*_O_*.jpg\")[:10]:\n",
    "    image = Image.open(image_path)\n",
    "\n",
    "    prompt = \"Is there a letters in the image?\"\n",
    "\n",
    "    encoding = vqa_processor(image, prompt, return_tensors=\"pt\").to(\"cuda:2\")\n",
    "    outputs = vqa_model.generate(**encoding)\n",
    "    print(image_path, vqa_processor.decode(outputs[0], skip_special_tokens=True))"
   ]
  },
  {
   "cell_type": "code",
   "execution_count": null,
   "metadata": {},
   "outputs": [],
   "source": []
  }
 ],
 "metadata": {
  "kernelspec": {
   "display_name": "bias",
   "language": "python",
   "name": "python3"
  },
  "language_info": {
   "codemirror_mode": {
    "name": "ipython",
    "version": 3
   },
   "file_extension": ".py",
   "mimetype": "text/x-python",
   "name": "python",
   "nbconvert_exporter": "python",
   "pygments_lexer": "ipython3",
   "version": "3.8.12"
  }
 },
 "nbformat": 4,
 "nbformat_minor": 2
}
