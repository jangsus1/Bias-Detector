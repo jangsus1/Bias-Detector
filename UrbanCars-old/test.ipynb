{
 "cells": [
  {
   "cell_type": "markdown",
   "metadata": {},
   "source": [
    "## React-Friendly Dataset Generation"
   ]
  },
  {
   "cell_type": "code",
   "execution_count": 1,
   "metadata": {},
   "outputs": [],
   "source": [
    "from glob import glob\n",
    "import os\n",
    "import shutil\n"
   ]
  },
  {
   "cell_type": "code",
   "execution_count": 2,
   "metadata": {},
   "outputs": [
    {
     "name": "stdout",
     "output_type": "stream",
     "text": [
      "train/country: 4000\n",
      "train/urban: 4000\n",
      "val/country: 498\n",
      "val/urban: 498\n",
      "test/country: 500\n",
      "test/urban: 500\n"
     ]
    }
   ],
   "source": [
    "\n",
    "for split in [\"train\", \"val\", \"test\"]:\n",
    "    for classname in [\"country\", \"urban\"]:\n",
    "        if split in [\"train\", \"val\"]:\n",
    "            folders = glob(f\"bg-0.95_co_occur_obj-0.95/{split}/obj-{classname}*\")\n",
    "        else: \n",
    "            folders = glob(f\"bg-0.5_co_occur_obj-0.5/{split}/obj-{classname}*\")\n",
    "        images = [glob(f\"{folder}/*.jpg\") for folder in folders]\n",
    "        images = [item for sublist in images for item in sublist]\n",
    "        images = sorted([img for img in images if \"jpg\" in img])\n",
    "        print(f\"{split}/{classname}: {len(images)}\")\n",
    "        for idx, img in enumerate(images):\n",
    "            feature = img.split(\"/\")[-2].replace(f\"obj-{classname}_\", \"\")\n",
    "            new_path = f\"{split}/{classname}/{idx:04d}_{feature}.jpg\"\n",
    "            os.makedirs(os.path.dirname(new_path), exist_ok=True)\n",
    "            shutil.copy(img, new_path)"
   ]
  },
  {
   "cell_type": "code",
   "execution_count": 2,
   "metadata": {},
   "outputs": [],
   "source": [
    "file_list_json = {}\n",
    "for split in [\"train\", \"val\", \"test\"]:\n",
    "    file_list_json[split] = {}\n",
    "    for classname in [\"country\", \"urban\"]:\n",
    "        images = glob(f\"{split}/{classname}/*.jpg\")\n",
    "        file_list_json[split][classname] = images\n",
    "\n",
    "import json\n",
    "with open(\"file_list.json\", \"w\") as f:\n",
    "    json.dump(file_list_json, f, indent=4)"
   ]
  },
  {
   "cell_type": "code",
   "execution_count": null,
   "metadata": {},
   "outputs": [],
   "source": []
  }
 ],
 "metadata": {
  "kernelspec": {
   "display_name": "bias",
   "language": "python",
   "name": "python3"
  },
  "language_info": {
   "codemirror_mode": {
    "name": "ipython",
    "version": 3
   },
   "file_extension": ".py",
   "mimetype": "text/x-python",
   "name": "python",
   "nbconvert_exporter": "python",
   "pygments_lexer": "ipython3",
   "version": "3.8.12"
  }
 },
 "nbformat": 4,
 "nbformat_minor": 2
}
