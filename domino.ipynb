{
  "cells": [
    {
      "cell_type": "markdown",
      "metadata": {
        "id": "8PY1agsfUSIA",
        "tags": []
      },
      "source": [
        "# 🍕 Introduction to Slice Discovery with `domino`\n",
        "\n",
        "This notebook introduces Domino, a method for identifying slices of data on which a machine learning model underperforms.\n",
        "\n",
        "\n",
        "**Useful links:**\n",
        "- 📄 [ICLR 2022 Paper](https://arxiv.org/abs/2203.14960)\n",
        "- 💻 [GitHub](https://github.com/HazyResearch/domino)\n",
        "- 📘 [Docs](https://domino-slice.readthedocs.io/en/latest/)\n",
        "- 🌍 [BlogPost]()"
      ]
    },
    {
      "cell_type": "code",
      "execution_count": null,
      "metadata": {},
      "outputs": [],
      "source": [
        "!pip install \"domino[clip,text] @ git+https://github.com/HazyResearch/domino@main\""
      ]
    },
    {
      "cell_type": "code",
      "execution_count": null,
      "metadata": {},
      "outputs": [],
      "source": [
        "!pip install git+https://github.com/openai/CLIP.git"
      ]
    },
    {
      "cell_type": "markdown",
      "metadata": {},
      "source": [
        "NOTE: Remove tkinter usages"
      ]
    },
    {
      "cell_type": "code",
      "execution_count": 1,
      "metadata": {
        "id": "rIqB7N2dUSID"
      },
      "outputs": [],
      "source": [
        "import meerkat as mk\n",
        "from domino import explore, DominoSlicer\n"
      ]
    },
    {
      "cell_type": "code",
      "execution_count": 2,
      "metadata": {
        "id": "dXuzIdQdUSID"
      },
      "outputs": [],
      "source": [
        "# if you don't have access to a GPU, set this to `DEVICE=\"cpu\"`\n",
        "# if you are running this notebook on Google colab, you can use a GPU by going to\n",
        "# \"Runtime\" -> \"Change runtime type\" and selecting \"GPU\" under Hardware accelerator\n",
        "DEVICE = \"cuda:0\""
      ]
    },
    {
      "cell_type": "markdown",
      "metadata": {
        "id": "QeMzQ6dMUSID"
      },
      "source": [
        "## 💾 Downloading the data\n",
        "First, we'll download some data to explore. We're going to use the [Imagenette dataset](https://github.com/fastai/imagenette#image%E7%BD%91), a small subset of the original [ImageNet](https://www.image-net.org/update-mar-11-2021.php).  This dataset is made up of 10 classes (e.g. \"garbage truck\", \"gas pump\", \"golf ball\").\n",
        "- Download time: <1 minute\n",
        "- Download size: 130M"
      ]
    },
    {
      "cell_type": "code",
      "execution_count": 3,
      "metadata": {
        "id": "T3eCqSZTUSID",
        "outputId": "4d4871fc-078a-4de0-cf1b-25f6ba606437"
      },
      "outputs": [],
      "source": [
        "%load_ext autoreload\n",
        "%autoreload 2"
      ]
    },
    {
      "cell_type": "code",
      "execution_count": 4,
      "metadata": {
        "id": "hfR4YVV0USIE"
      },
      "outputs": [],
      "source": [
        "import os\n",
        "\n",
        "df = mk.datasets.get(\"imagenette\")\n",
        "\n",
        "# we'll only be using the validation data\n",
        "df = df[df[\"split\"] == \"valid\"][:512]"
      ]
    },
    {
      "cell_type": "markdown",
      "metadata": {
        "id": "XBqlKUQEUSIE"
      },
      "source": [
        "## 🤖 Loading a model and computing predictions\n",
        "Next, we'll load in the model we are going to audit: a ResNet18 pretrained on the full ImageNet (courtesy of [TorchVision](https://pytorch.org/vision/stable/models.html)). We'll compute the model's prediction for each example in the Imagenette validation dataset we loaded above."
      ]
    },
    {
      "cell_type": "code",
      "execution_count": 5,
      "metadata": {
        "id": "PWN10TeQUSIE",
        "outputId": "c5e900e1-1d47-42b6-8504-39a3d5b579b2"
      },
      "outputs": [
        {
          "name": "stderr",
          "output_type": "stream",
          "text": [
            "/ssd3/minsuk/bias/bias/lib/python3.8/site-packages/torchvision/models/_utils.py:208: UserWarning: The parameter 'pretrained' is deprecated since 0.13 and may be removed in the future, please use 'weights' instead.\n",
            "  warnings.warn(\n",
            "/ssd3/minsuk/bias/bias/lib/python3.8/site-packages/torchvision/models/_utils.py:223: UserWarning: Arguments other than a weight enum or `None` for 'weights' are deprecated since 0.13 and may be removed in the future. The current behavior is equivalent to passing `weights=ResNet18_Weights.IMAGENET1K_V1`. You can also use `weights=ResNet18_Weights.DEFAULT` to get the most up-to-date weights.\n",
            "  warnings.warn(msg)\n"
          ]
        }
      ],
      "source": [
        "import torch\n",
        "from torchvision.models import resnet18\n",
        "import torchvision.transforms as transforms\n",
        "model = resnet18(pretrained=True)"
      ]
    },
    {
      "cell_type": "code",
      "execution_count": 6,
      "metadata": {
        "id": "WbwdhZFhUSIF"
      },
      "outputs": [],
      "source": [
        "# 1. Define transform\n",
        "transform = transforms.Compose([\n",
        "    transforms.Resize(256),\n",
        "    transforms.CenterCrop(224),\n",
        "    transforms.ToTensor(),\n",
        "    transforms.Normalize(\n",
        "        mean=[0.485, 0.456, 0.406],\n",
        "        std=[0.229, 0.224, 0.225]),\n",
        "])\n",
        "\n",
        "# 2. Create new column with transform\n",
        "df[\"input\"] = df[\"img\"].defer(transform)"
      ]
    },
    {
      "cell_type": "code",
      "execution_count": 7,
      "metadata": {
        "id": "ZyA57qvRUSIF",
        "outputId": "cc71eda6-4e19-4f64-a45b-30d04793b5b9"
      },
      "outputs": [
        {
          "name": "stderr",
          "output_type": "stream",
          "text": [
            "100%|██████████| 16/16 [00:10<00:00,  1.52it/s]\n"
          ]
        }
      ],
      "source": [
        "# 1. Move the model to device\n",
        "model.to(DEVICE).eval()\n",
        "\n",
        "# 2. Define a function that runs a forward pass over a batch\n",
        "@torch.no_grad()\n",
        "def predict(input: mk.TensorColumn):\n",
        "    x: torch.Tensor = input.to_tensor().to(DEVICE)  # We get the underlying torch tensor with `data` and move to GPU\n",
        "    out: torch.Tensor = model(x)  # Run forward pass\n",
        "\n",
        "    # Return a dictionary with one key for each of the new columns. Each value in the\n",
        "    # dictionary should have the same length as the batch.\n",
        "    return {\n",
        "        \"pred\": out.cpu().numpy().argmax(axis=-1),\n",
        "        \"probs\": torch.softmax(out, axis=-1).cpu().numpy(),\n",
        "    }\n",
        "\n",
        "# 3. Apply the update. Note that the `predict` function operates on batches, so we set\n",
        "# `is_batched_fn=True`. Also, the `predict` function only accesses the \"input\" column, by\n",
        "# specifying that here we instruct update to only load that one column and skip others\n",
        "pred_df = df.map(\n",
        "    function=predict,\n",
        "    is_batched_fn=True,\n",
        "    batch_size=32,\n",
        "    pbar=True\n",
        ")\n",
        "df = mk.concat([df, pred_df], axis=1)"
      ]
    },
    {
      "cell_type": "markdown",
      "metadata": {
        "id": "ilfKshBWUSIF"
      },
      "source": [
        "## 🎯 Computing average metrics\n",
        "\n",
        "Next we'll compute metrics for one of the classes: \"gas pump\"."
      ]
    },
    {
      "cell_type": "code",
      "execution_count": 8,
      "metadata": {
        "id": "z0XMMEs4USIF",
        "outputId": "65fdd9ca-c71d-44b8-9116-ca1b54e9eb8f"
      },
      "outputs": [
        {
          "name": "stdout",
          "output_type": "stream",
          "text": [
            "Micro accuracy across the ten Imagenette classes: 0.521\n"
          ]
        }
      ],
      "source": [
        "df[\"correct\"] = df[\"pred\"] == df[\"label_idx\"].to_numpy()\n",
        "accuracy = df[\"correct\"].mean()\n",
        "print(f\"Micro accuracy across the ten Imagenette classes: {accuracy:0.3}\")"
      ]
    },
    {
      "cell_type": "markdown",
      "metadata": {
        "id": "OkMEgNjAUSIF"
      },
      "source": [
        "## 🔎 Discovering underperforming slices\n",
        "\n",
        "Although the model performs quite well on average, it may still underperform on interesting slices of data. Slice Discovery Methods (SDM) are automated algorithms that aim to identify these slices.  Most SDMs adhere to a three-step procedure highlighted in the figure below: (1) embed, (2) slice, and (3) describe.  For each of these steps, the `domino` package provides implementations of various algorithms under a common API. This makes it easy to compose a custom slice discovery method from different choices for each step.\n",
        "\n",
        "<div>\n",
        "<img src=\"attachment:509a0045-9a12-4397-a206-749ea863d6ec.png\" width=\"500\"/>\n",
        "</div>\n",
        "\n",
        "\n",
        "Below, we use `domino` to discover slices of the Imagenette data on which the model underperforms.\n",
        "We'll focus on one class at a time when discovering slices in this tutorial. Below, we start with the class \"gas pump\", but feel free to try a different class by changing the `LABEL_IDX` constant.\n",
        "\n",
        "```\n",
        "{'cassette player': 482,\n",
        " 'garbage truck': 569,\n",
        " 'tench': 0,\n",
        " 'english springer spaniel': 217,\n",
        " 'church': 497,\n",
        " 'parachute': 701,\n",
        " 'french horn': 566,\n",
        " 'chainsaw': 491,\n",
        " 'golf ball': 574,\n",
        " 'gas pump': 571}\n",
        "```"
      ]
    },
    {
      "cell_type": "code",
      "execution_count": 9,
      "metadata": {
        "id": "mrXH7BwwUSIF"
      },
      "outputs": [],
      "source": [
        "LABEL_IDX = 571\n",
        "\n",
        "# convert to a binary task\n",
        "df[\"prob\"] = df[\"probs\"][:, LABEL_IDX]\n",
        "df[\"target\"] = (df[\"label_idx\"] == LABEL_IDX)\n"
      ]
    },
    {
      "cell_type": "markdown",
      "metadata": {
        "id": "6try_nyQUSIF"
      },
      "source": [
        "### 📊 1. Embed\n",
        "\n",
        "Domino encodes the validation images alongside text in a cross-modal embedding space using a model like CLIP."
      ]
    },
    {
      "cell_type": "code",
      "execution_count": 10,
      "metadata": {
        "id": "-PrGHI7OUSIG",
        "outputId": "51fd1360-39b3-4dec-a951-0d6a2c0619e0"
      },
      "outputs": [
        {
          "name": "stderr",
          "output_type": "stream",
          "text": [
            "100%|██████████| 4/4 [00:09<00:00,  2.33s/it]\n"
          ]
        }
      ],
      "source": [
        "from domino import embed\n",
        "df = embed(\n",
        "    df,\n",
        "    input_col=\"img\",\n",
        "    encoder=\"clip\",\n",
        "    modality=\"image\",\n",
        "    device=DEVICE\n",
        ")"
      ]
    },
    {
      "cell_type": "markdown",
      "metadata": {
        "id": "WK0aYu3MUSIG"
      },
      "source": [
        "### 🍕 2. Slice\n",
        "\n",
        "Using an error-aware mixture model, Domino identifies regions in the embedding space with a high concentration of errors."
      ]
    },
    {
      "cell_type": "code",
      "execution_count": 11,
      "metadata": {
        "id": "HMCSt-RAUSIG",
        "outputId": "3b17e12e-b585-4a66-914c-0db2830a64d4",
        "tags": []
      },
      "outputs": [
        {
          "name": "stderr",
          "output_type": "stream",
          "text": [
            "  9%|\u001b[38;2;241;122;74m▉         \u001b[0m| 9/100 [00:00<00:04, 19.45it/s]\n"
          ]
        }
      ],
      "source": [
        "domino = DominoSlicer(\n",
        "    y_log_likelihood_weight=40,\n",
        "    y_hat_log_likelihood_weight=40,\n",
        "    n_mixture_components=25,\n",
        "    n_slices=5\n",
        ")\n",
        "\n",
        "domino.fit(data=df, embeddings=\"clip(img)\", targets=\"target\", pred_probs=\"prob\")\n",
        "\n",
        "df[\"domino_slices\"] = domino.predict_proba(\n",
        "    data=df, embeddings=\"clip(img)\", targets=\"target\", pred_probs=\"prob\"\n",
        ")"
      ]
    },
    {
      "cell_type": "markdown",
      "metadata": {
        "id": "8jncKSPPUSIG"
      },
      "source": [
        "### ✏️ 3. Describe\n",
        "\n",
        "Finally, to help practitioners understand the commonalities among the examples in each slice, Domino generates natural language descriptions of the slices. To do so, it leverages the cross-modal embeddings computed in Step 1, surfacing the text nearest to the slice in embedding space."
      ]
    },
    {
      "cell_type": "code",
      "execution_count": 14,
      "metadata": {
        "colab": {
          "referenced_widgets": [
            "3d5f218e550446d092c3395a4b701d75"
          ]
        },
        "id": "1MEzkeKCUSIG",
        "outputId": "731d1b08-ca79-4650-ca79-f4b115c1f415"
      },
      "outputs": [
        {
          "name": "stderr",
          "output_type": "stream",
          "text": [
            "[nltk_data] Downloading package words to /ssd3/minsuk/nltk_data...\n",
            "[nltk_data]   Package words is already up-to-date!\n",
            "Some weights of the model checkpoint at bert-base-uncased were not used when initializing BertForMaskedLM: ['cls.seq_relationship.weight', 'bert.pooler.dense.weight', 'cls.seq_relationship.bias', 'bert.pooler.dense.bias']\n",
            "- This IS expected if you are initializing BertForMaskedLM from the checkpoint of a model trained on another task or with another architecture (e.g. initializing a BertForSequenceClassification model from a BertForPreTraining model).\n",
            "- This IS NOT expected if you are initializing BertForMaskedLM from the checkpoint of a model that you expect to be exactly identical (initializing a BertForSequenceClassification model from a BertForSequenceClassification model).\n",
            "100%|██████████| 625/625 [02:18<00:00,  4.51it/s]\n"
          ]
        },
        {
          "ename": "ValueError",
          "evalue": "Cannot add column 'pkey' with length 10000 to `BlockManager`  with length 100000 columns.",
          "output_type": "error",
          "traceback": [
            "\u001b[0;31m---------------------------------------------------------------------------\u001b[0m",
            "\u001b[0;31mValueError\u001b[0m                                Traceback (most recent call last)",
            "Cell \u001b[0;32mIn[14], line 9\u001b[0m\n\u001b[1;32m      1\u001b[0m \u001b[38;5;28;01mfrom\u001b[39;00m \u001b[38;5;21;01mdomino\u001b[39;00m \u001b[38;5;28;01mimport\u001b[39;00m generate_candidate_descriptions\n\u001b[1;32m      2\u001b[0m phrase_templates \u001b[38;5;241m=\u001b[39m [\n\u001b[1;32m      3\u001b[0m     \u001b[38;5;124m\"\u001b[39m\u001b[38;5;124ma photo of [MASK].\u001b[39m\u001b[38;5;124m\"\u001b[39m,\n\u001b[1;32m      4\u001b[0m     \u001b[38;5;124m\"\u001b[39m\u001b[38;5;124ma photo of \u001b[39m\u001b[38;5;132;01m{}\u001b[39;00m\u001b[38;5;124m [MASK].\u001b[39m\u001b[38;5;124m\"\u001b[39m,\n\u001b[1;32m      5\u001b[0m     \u001b[38;5;124m\"\u001b[39m\u001b[38;5;124ma photo of [MASK] \u001b[39m\u001b[38;5;132;01m{}\u001b[39;00m\u001b[38;5;124m.\u001b[39m\u001b[38;5;124m\"\u001b[39m,\n\u001b[1;32m      6\u001b[0m     \u001b[38;5;124m\"\u001b[39m\u001b[38;5;124ma photo of [MASK] \u001b[39m\u001b[38;5;132;01m{}\u001b[39;00m\u001b[38;5;124m [MASK].\u001b[39m\u001b[38;5;124m\"\u001b[39m,\n\u001b[1;32m      7\u001b[0m ]\n\u001b[0;32m----> 9\u001b[0m text_df \u001b[38;5;241m=\u001b[39m \u001b[43mgenerate_candidate_descriptions\u001b[49m\u001b[43m(\u001b[49m\n\u001b[1;32m     10\u001b[0m \u001b[43m    \u001b[49m\u001b[43mtemplates\u001b[49m\u001b[38;5;241;43m=\u001b[39;49m\u001b[43mphrase_templates\u001b[49m\u001b[43m,\u001b[49m\n\u001b[1;32m     11\u001b[0m \u001b[43m    \u001b[49m\u001b[43mnum_candidates\u001b[49m\u001b[38;5;241;43m=\u001b[39;49m\u001b[38;5;241;43m100000\u001b[39;49m\n\u001b[1;32m     12\u001b[0m \u001b[43m)\u001b[49m\n",
            "File \u001b[0;32m~/bias/bias/lib/python3.8/site-packages/domino/_describe/generate.py:60\u001b[0m, in \u001b[0;36mgenerate_candidate_descriptions\u001b[0;34m(templates, device, k, bert_size, num_candidates, num_seed_words, score_with_gpt)\u001b[0m\n\u001b[1;32m     54\u001b[0m             output_probs\u001b[38;5;241m.\u001b[39mappend(\n\u001b[1;32m     55\u001b[0m                 token_probs[mask_range, local_idxs]\u001b[38;5;241m.\u001b[39mmean()\u001b[38;5;241m.\u001b[39mcpu()\u001b[38;5;241m.\u001b[39mnumpy()\n\u001b[1;32m     56\u001b[0m             )\n\u001b[1;32m     58\u001b[0m     \u001b[38;5;28;01mreturn\u001b[39;00m {\u001b[38;5;124m\"\u001b[39m\u001b[38;5;124mprob\u001b[39m\u001b[38;5;124m\"\u001b[39m: output_probs, \u001b[38;5;124m\"\u001b[39m\u001b[38;5;124moutput_phrase\u001b[39m\u001b[38;5;124m\"\u001b[39m: output_phrases}\n\u001b[0;32m---> 60\u001b[0m candidate_phrases \u001b[38;5;241m=\u001b[39m \u001b[43mwords_dp\u001b[49m\u001b[43m[\u001b[49m\u001b[38;5;124;43m\"\u001b[39;49m\u001b[38;5;124;43mword\u001b[39;49m\u001b[38;5;124;43m\"\u001b[39;49m\u001b[43m]\u001b[49m\u001b[38;5;241;43m.\u001b[39;49m\u001b[43mmap\u001b[49m\u001b[43m(\u001b[49m\n\u001b[1;32m     61\u001b[0m \u001b[43m    \u001b[49m\u001b[43m_forward_mlm\u001b[49m\u001b[43m,\u001b[49m\u001b[43m \u001b[49m\u001b[43mis_batched_fn\u001b[49m\u001b[38;5;241;43m=\u001b[39;49m\u001b[38;5;28;43;01mTrue\u001b[39;49;00m\u001b[43m,\u001b[49m\u001b[43m \u001b[49m\u001b[43mbatch_size\u001b[49m\u001b[38;5;241;43m=\u001b[39;49m\u001b[38;5;241;43m16\u001b[39;49m\u001b[43m,\u001b[49m\u001b[43m \u001b[49m\u001b[43mpbar\u001b[49m\u001b[38;5;241;43m=\u001b[39;49m\u001b[38;5;28;43;01mTrue\u001b[39;49;00m\n\u001b[1;32m     62\u001b[0m \u001b[43m\u001b[49m\u001b[43m)\u001b[49m\n\u001b[1;32m     64\u001b[0m candidate_phrases \u001b[38;5;241m=\u001b[39m (\n\u001b[1;32m     65\u001b[0m     candidate_phrases\u001b[38;5;241m.\u001b[39mto_pandas()\n\u001b[1;32m     66\u001b[0m     \u001b[38;5;241m.\u001b[39mdropna()\n\u001b[1;32m     67\u001b[0m     \u001b[38;5;241m.\u001b[39msort_values(\u001b[38;5;124m\"\u001b[39m\u001b[38;5;124mprob\u001b[39m\u001b[38;5;124m\"\u001b[39m, ascending\u001b[38;5;241m=\u001b[39m\u001b[38;5;28;01mFalse\u001b[39;00m)[:num_candidates]\n\u001b[1;32m     68\u001b[0m )\n\u001b[1;32m     70\u001b[0m \u001b[38;5;28;01mif\u001b[39;00m score_with_gpt:\n",
            "File \u001b[0;32m~/bias/bias/lib/python3.8/site-packages/meerkat/interactive/graph/marking.py:74\u001b[0m, in \u001b[0;36munmarked.__call__.<locals>.decorate_context\u001b[0;34m(*args, **kwargs)\u001b[0m\n\u001b[1;32m     71\u001b[0m \u001b[38;5;129m@wraps\u001b[39m(func)\n\u001b[1;32m     72\u001b[0m \u001b[38;5;28;01mdef\u001b[39;00m \u001b[38;5;21mdecorate_context\u001b[39m(\u001b[38;5;241m*\u001b[39margs, \u001b[38;5;241m*\u001b[39m\u001b[38;5;241m*\u001b[39mkwargs):\n\u001b[1;32m     73\u001b[0m     \u001b[38;5;28;01mwith\u001b[39;00m \u001b[38;5;28mself\u001b[39m\u001b[38;5;241m.\u001b[39mclone():\n\u001b[0;32m---> 74\u001b[0m         \u001b[38;5;28;01mreturn\u001b[39;00m \u001b[43mreactive\u001b[49m\u001b[43m(\u001b[49m\u001b[43mfunc\u001b[49m\u001b[43m,\u001b[49m\u001b[43m \u001b[49m\u001b[43mnested_return\u001b[49m\u001b[38;5;241;43m=\u001b[39;49m\u001b[38;5;28;43;01mFalse\u001b[39;49;00m\u001b[43m)\u001b[49m\u001b[43m(\u001b[49m\u001b[38;5;241;43m*\u001b[39;49m\u001b[43margs\u001b[49m\u001b[43m,\u001b[49m\u001b[43m \u001b[49m\u001b[38;5;241;43m*\u001b[39;49m\u001b[38;5;241;43m*\u001b[39;49m\u001b[43mkwargs\u001b[49m\u001b[43m)\u001b[49m\n",
            "File \u001b[0;32m~/bias/bias/lib/python3.8/site-packages/meerkat/interactive/graph/reactivity.py:211\u001b[0m, in \u001b[0;36mreactive.<locals>.__reactive.<locals>.wrapper\u001b[0;34m(*args, **kwargs)\u001b[0m\n\u001b[1;32m    209\u001b[0m \u001b[38;5;66;03m# Call the function on the args and kwargs\u001b[39;00m\n\u001b[1;32m    210\u001b[0m \u001b[38;5;28;01mwith\u001b[39;00m unmarked():\n\u001b[0;32m--> 211\u001b[0m     result \u001b[38;5;241m=\u001b[39m \u001b[43mfn\u001b[49m\u001b[43m(\u001b[49m\u001b[38;5;241;43m*\u001b[39;49m\u001b[43munpacked_args\u001b[49m\u001b[43m,\u001b[49m\u001b[43m \u001b[49m\u001b[38;5;241;43m*\u001b[39;49m\u001b[38;5;241;43m*\u001b[39;49m\u001b[43munpacked_kwargs\u001b[49m\u001b[43m)\u001b[49m\n\u001b[1;32m    213\u001b[0m \u001b[38;5;66;03m# TODO: Check if result is equal to one of the inputs.\u001b[39;00m\n\u001b[1;32m    214\u001b[0m \u001b[38;5;66;03m# If it is, we need to copy it.\u001b[39;00m\n\u001b[1;32m    216\u001b[0m \u001b[38;5;28;01mif\u001b[39;00m _is_unmarked_context \u001b[38;5;129;01mor\u001b[39;00m _force_no_react \u001b[38;5;129;01mor\u001b[39;00m \u001b[38;5;129;01mnot\u001b[39;00m any_inputs_marked:\n\u001b[1;32m    217\u001b[0m     \u001b[38;5;66;03m# If we are in an unmarked context, then we don't need to create\u001b[39;00m\n\u001b[1;32m    218\u001b[0m     \u001b[38;5;66;03m# any nodes in the graph.\u001b[39;00m\n\u001b[1;32m    219\u001b[0m     \u001b[38;5;66;03m# `fn` should be run as normal.\u001b[39;00m\n",
            "File \u001b[0;32m~/bias/bias/lib/python3.8/site-packages/meerkat/interactive/graph/reactivity.py:144\u001b[0m, in \u001b[0;36mreactive.<locals>.__reactive.<locals>.wrapper.<locals>._fn_outer_wrapper.<locals>._fn_wrapper\u001b[0;34m(*args, **kwargs)\u001b[0m\n\u001b[1;32m    142\u001b[0m \u001b[38;5;129m@wraps\u001b[39m(_fn)\n\u001b[1;32m    143\u001b[0m \u001b[38;5;28;01mdef\u001b[39;00m \u001b[38;5;21m_fn_wrapper\u001b[39m(\u001b[38;5;241m*\u001b[39margs, \u001b[38;5;241m*\u001b[39m\u001b[38;5;241m*\u001b[39mkwargs):\n\u001b[0;32m--> 144\u001b[0m     \u001b[38;5;28;01mreturn\u001b[39;00m \u001b[43m_fn\u001b[49m\u001b[43m(\u001b[49m\u001b[38;5;241;43m*\u001b[39;49m\u001b[43margs\u001b[49m\u001b[43m,\u001b[49m\u001b[43m \u001b[49m\u001b[38;5;241;43m*\u001b[39;49m\u001b[38;5;241;43m*\u001b[39;49m\u001b[43mkwargs\u001b[49m\u001b[43m)\u001b[49m\n",
            "File \u001b[0;32m~/bias/bias/lib/python3.8/site-packages/meerkat/columns/abstract.py:375\u001b[0m, in \u001b[0;36mColumn.map\u001b[0;34m(self, function, is_batched_fn, batch_size, inputs, outputs, output_type, materialize, **kwargs)\u001b[0m\n\u001b[1;32m    362\u001b[0m \u001b[38;5;28;01mdef\u001b[39;00m \u001b[38;5;21mmap\u001b[39m(\n\u001b[1;32m    363\u001b[0m     \u001b[38;5;28mself\u001b[39m,\n\u001b[1;32m    364\u001b[0m     function: Callable,\n\u001b[0;32m   (...)\u001b[0m\n\u001b[1;32m    371\u001b[0m     \u001b[38;5;241m*\u001b[39m\u001b[38;5;241m*\u001b[39mkwargs,\n\u001b[1;32m    372\u001b[0m ) \u001b[38;5;241m-\u001b[39m\u001b[38;5;241m>\u001b[39m Optional[Union[Dict, List, Column]]:\n\u001b[1;32m    373\u001b[0m     \u001b[38;5;28;01mfrom\u001b[39;00m \u001b[38;5;21;01mmeerkat\u001b[39;00m\u001b[38;5;21;01m.\u001b[39;00m\u001b[38;5;21;01mops\u001b[39;00m\u001b[38;5;21;01m.\u001b[39;00m\u001b[38;5;21;01mmap\u001b[39;00m \u001b[38;5;28;01mimport\u001b[39;00m \u001b[38;5;28mmap\u001b[39m\n\u001b[0;32m--> 375\u001b[0m     \u001b[38;5;28;01mreturn\u001b[39;00m \u001b[38;5;28;43mmap\u001b[39;49m\u001b[43m(\u001b[49m\n\u001b[1;32m    376\u001b[0m \u001b[43m        \u001b[49m\u001b[43mdata\u001b[49m\u001b[38;5;241;43m=\u001b[39;49m\u001b[38;5;28;43mself\u001b[39;49m\u001b[43m,\u001b[49m\n\u001b[1;32m    377\u001b[0m \u001b[43m        \u001b[49m\u001b[43mfunction\u001b[49m\u001b[38;5;241;43m=\u001b[39;49m\u001b[43mfunction\u001b[49m\u001b[43m,\u001b[49m\n\u001b[1;32m    378\u001b[0m \u001b[43m        \u001b[49m\u001b[43mis_batched_fn\u001b[49m\u001b[38;5;241;43m=\u001b[39;49m\u001b[43mis_batched_fn\u001b[49m\u001b[43m,\u001b[49m\n\u001b[1;32m    379\u001b[0m \u001b[43m        \u001b[49m\u001b[43mbatch_size\u001b[49m\u001b[38;5;241;43m=\u001b[39;49m\u001b[43mbatch_size\u001b[49m\u001b[43m,\u001b[49m\n\u001b[1;32m    380\u001b[0m \u001b[43m        \u001b[49m\u001b[43minputs\u001b[49m\u001b[38;5;241;43m=\u001b[39;49m\u001b[43minputs\u001b[49m\u001b[43m,\u001b[49m\n\u001b[1;32m    381\u001b[0m \u001b[43m        \u001b[49m\u001b[43moutputs\u001b[49m\u001b[38;5;241;43m=\u001b[39;49m\u001b[43moutputs\u001b[49m\u001b[43m,\u001b[49m\n\u001b[1;32m    382\u001b[0m \u001b[43m        \u001b[49m\u001b[43moutput_type\u001b[49m\u001b[38;5;241;43m=\u001b[39;49m\u001b[43moutput_type\u001b[49m\u001b[43m,\u001b[49m\n\u001b[1;32m    383\u001b[0m \u001b[43m        \u001b[49m\u001b[43mmaterialize\u001b[49m\u001b[38;5;241;43m=\u001b[39;49m\u001b[43mmaterialize\u001b[49m\u001b[43m,\u001b[49m\n\u001b[1;32m    384\u001b[0m \u001b[43m        \u001b[49m\u001b[38;5;241;43m*\u001b[39;49m\u001b[38;5;241;43m*\u001b[39;49m\u001b[43mkwargs\u001b[49m\u001b[43m,\u001b[49m\n\u001b[1;32m    385\u001b[0m \u001b[43m    \u001b[49m\u001b[43m)\u001b[49m\n",
            "File \u001b[0;32m~/bias/bias/lib/python3.8/site-packages/meerkat/ops/map.py:483\u001b[0m, in \u001b[0;36mmap\u001b[0;34m(data, function, is_batched_fn, batch_size, inputs, outputs, output_type, materialize, use_ray, num_blocks, blocks_per_window, pbar, **kwargs)\u001b[0m\n\u001b[1;32m    379\u001b[0m \u001b[38;5;250m\u001b[39m\u001b[38;5;124;03m\"\"\"Create a new :class:`Column` or :class:`DataFrame` by applying a\u001b[39;00m\n\u001b[1;32m    380\u001b[0m \u001b[38;5;124;03mfunction to each row in ${data}.\u001b[39;00m\n\u001b[1;32m    381\u001b[0m \n\u001b[0;32m   (...)\u001b[0m\n\u001b[1;32m    470\u001b[0m \u001b[38;5;124;03m    df[\"ma_eligible\"]\u001b[39;00m\n\u001b[1;32m    471\u001b[0m \u001b[38;5;124;03m\"\"\"\u001b[39;00m\n\u001b[1;32m    473\u001b[0m deferred \u001b[38;5;241m=\u001b[39m defer(\n\u001b[1;32m    474\u001b[0m     data\u001b[38;5;241m=\u001b[39mdata,\n\u001b[1;32m    475\u001b[0m     function\u001b[38;5;241m=\u001b[39mfunction,\n\u001b[0;32m   (...)\u001b[0m\n\u001b[1;32m    481\u001b[0m     materialize\u001b[38;5;241m=\u001b[39mmaterialize,\n\u001b[1;32m    482\u001b[0m )\n\u001b[0;32m--> 483\u001b[0m \u001b[38;5;28;01mreturn\u001b[39;00m \u001b[43m_materialize\u001b[49m\u001b[43m(\u001b[49m\n\u001b[1;32m    484\u001b[0m \u001b[43m    \u001b[49m\u001b[43mdeferred\u001b[49m\u001b[43m,\u001b[49m\n\u001b[1;32m    485\u001b[0m \u001b[43m    \u001b[49m\u001b[43mbatch_size\u001b[49m\u001b[38;5;241;43m=\u001b[39;49m\u001b[43mbatch_size\u001b[49m\u001b[43m,\u001b[49m\n\u001b[1;32m    486\u001b[0m \u001b[43m    \u001b[49m\u001b[43mpbar\u001b[49m\u001b[38;5;241;43m=\u001b[39;49m\u001b[43mpbar\u001b[49m\u001b[43m,\u001b[49m\n\u001b[1;32m    487\u001b[0m \u001b[43m    \u001b[49m\u001b[43muse_ray\u001b[49m\u001b[38;5;241;43m=\u001b[39;49m\u001b[43muse_ray\u001b[49m\u001b[43m,\u001b[49m\n\u001b[1;32m    488\u001b[0m \u001b[43m    \u001b[49m\u001b[43mnum_blocks\u001b[49m\u001b[38;5;241;43m=\u001b[39;49m\u001b[43mnum_blocks\u001b[49m\u001b[43m,\u001b[49m\n\u001b[1;32m    489\u001b[0m \u001b[43m    \u001b[49m\u001b[43mblocks_per_window\u001b[49m\u001b[38;5;241;43m=\u001b[39;49m\u001b[43mblocks_per_window\u001b[49m\u001b[43m,\u001b[49m\n\u001b[1;32m    490\u001b[0m \u001b[43m\u001b[49m\u001b[43m)\u001b[49m\n",
            "File \u001b[0;32m~/bias/bias/lib/python3.8/site-packages/meerkat/ops/map.py:622\u001b[0m, in \u001b[0;36m_materialize\u001b[0;34m(data, batch_size, pbar, use_ray, num_blocks, blocks_per_window)\u001b[0m\n\u001b[1;32m    616\u001b[0m \u001b[38;5;28;01mfor\u001b[39;00m batch_start \u001b[38;5;129;01min\u001b[39;00m tqdm(\u001b[38;5;28mrange\u001b[39m(\u001b[38;5;241m0\u001b[39m, \u001b[38;5;28mlen\u001b[39m(data), batch_size), disable\u001b[38;5;241m=\u001b[39m\u001b[38;5;129;01mnot\u001b[39;00m pbar):\n\u001b[1;32m    617\u001b[0m     result\u001b[38;5;241m.\u001b[39mappend(\n\u001b[1;32m    618\u001b[0m         data\u001b[38;5;241m.\u001b[39m_get(\n\u001b[1;32m    619\u001b[0m             \u001b[38;5;28mslice\u001b[39m(batch_start, batch_start \u001b[38;5;241m+\u001b[39m batch_size, \u001b[38;5;241m1\u001b[39m), materialize\u001b[38;5;241m=\u001b[39m\u001b[38;5;28;01mTrue\u001b[39;00m\n\u001b[1;32m    620\u001b[0m         )\n\u001b[1;32m    621\u001b[0m     )\n\u001b[0;32m--> 622\u001b[0m \u001b[38;5;28;01mreturn\u001b[39;00m \u001b[43mconcat\u001b[49m\u001b[43m(\u001b[49m\u001b[43mresult\u001b[49m\u001b[43m)\u001b[49m\n",
            "File \u001b[0;32m~/bias/bias/lib/python3.8/site-packages/meerkat/interactive/graph/reactivity.py:211\u001b[0m, in \u001b[0;36mreactive.<locals>.__reactive.<locals>.wrapper\u001b[0;34m(*args, **kwargs)\u001b[0m\n\u001b[1;32m    209\u001b[0m \u001b[38;5;66;03m# Call the function on the args and kwargs\u001b[39;00m\n\u001b[1;32m    210\u001b[0m \u001b[38;5;28;01mwith\u001b[39;00m unmarked():\n\u001b[0;32m--> 211\u001b[0m     result \u001b[38;5;241m=\u001b[39m \u001b[43mfn\u001b[49m\u001b[43m(\u001b[49m\u001b[38;5;241;43m*\u001b[39;49m\u001b[43munpacked_args\u001b[49m\u001b[43m,\u001b[49m\u001b[43m \u001b[49m\u001b[38;5;241;43m*\u001b[39;49m\u001b[38;5;241;43m*\u001b[39;49m\u001b[43munpacked_kwargs\u001b[49m\u001b[43m)\u001b[49m\n\u001b[1;32m    213\u001b[0m \u001b[38;5;66;03m# TODO: Check if result is equal to one of the inputs.\u001b[39;00m\n\u001b[1;32m    214\u001b[0m \u001b[38;5;66;03m# If it is, we need to copy it.\u001b[39;00m\n\u001b[1;32m    216\u001b[0m \u001b[38;5;28;01mif\u001b[39;00m _is_unmarked_context \u001b[38;5;129;01mor\u001b[39;00m _force_no_react \u001b[38;5;129;01mor\u001b[39;00m \u001b[38;5;129;01mnot\u001b[39;00m any_inputs_marked:\n\u001b[1;32m    217\u001b[0m     \u001b[38;5;66;03m# If we are in an unmarked context, then we don't need to create\u001b[39;00m\n\u001b[1;32m    218\u001b[0m     \u001b[38;5;66;03m# any nodes in the graph.\u001b[39;00m\n\u001b[1;32m    219\u001b[0m     \u001b[38;5;66;03m# `fn` should be run as normal.\u001b[39;00m\n",
            "File \u001b[0;32m~/bias/bias/lib/python3.8/site-packages/meerkat/ops/decorators.py:16\u001b[0m, in \u001b[0;36mcheck_primary_key.<locals>._wrapper\u001b[0;34m(*args, **kwargs)\u001b[0m\n\u001b[1;32m     14\u001b[0m \u001b[38;5;129m@wraps\u001b[39m(fn)\n\u001b[1;32m     15\u001b[0m \u001b[38;5;28;01mdef\u001b[39;00m \u001b[38;5;21m_wrapper\u001b[39m(\u001b[38;5;241m*\u001b[39margs, \u001b[38;5;241m*\u001b[39m\u001b[38;5;241m*\u001b[39mkwargs):\n\u001b[0;32m---> 16\u001b[0m     out \u001b[38;5;241m=\u001b[39m \u001b[43mfn\u001b[49m\u001b[43m(\u001b[49m\u001b[38;5;241;43m*\u001b[39;49m\u001b[43margs\u001b[49m\u001b[43m,\u001b[49m\u001b[43m \u001b[49m\u001b[38;5;241;43m*\u001b[39;49m\u001b[38;5;241;43m*\u001b[39;49m\u001b[43mkwargs\u001b[49m\u001b[43m)\u001b[49m\n\u001b[1;32m     18\u001b[0m     \u001b[38;5;28;01mif\u001b[39;00m \u001b[38;5;28misinstance\u001b[39m(out, DataFrame):\n\u001b[1;32m     19\u001b[0m         \u001b[38;5;28;01mif\u001b[39;00m out\u001b[38;5;241m.\u001b[39m_primary_key \u001b[38;5;129;01mis\u001b[39;00m \u001b[38;5;129;01mnot\u001b[39;00m \u001b[38;5;28;01mNone\u001b[39;00m \u001b[38;5;129;01mand\u001b[39;00m (\n\u001b[1;32m     20\u001b[0m             out\u001b[38;5;241m.\u001b[39m_primary_key \u001b[38;5;129;01mnot\u001b[39;00m \u001b[38;5;129;01min\u001b[39;00m out\n\u001b[1;32m     21\u001b[0m             \u001b[38;5;129;01mor\u001b[39;00m \u001b[38;5;129;01mnot\u001b[39;00m out\u001b[38;5;241m.\u001b[39mprimary_key\u001b[38;5;241m.\u001b[39m_is_valid_primary_key()\n\u001b[1;32m     22\u001b[0m         ):\n",
            "File \u001b[0;32m~/bias/bias/lib/python3.8/site-packages/meerkat/ops/concat.py:65\u001b[0m, in \u001b[0;36mconcat\u001b[0;34m(objs, axis, suffixes, overwrite)\u001b[0m\n\u001b[1;32m     60\u001b[0m     \u001b[38;5;28;01mif\u001b[39;00m \u001b[38;5;129;01mnot\u001b[39;00m \u001b[38;5;28mall\u001b[39m([\u001b[38;5;28mset\u001b[39m(df\u001b[38;5;241m.\u001b[39mcolumns) \u001b[38;5;241m==\u001b[39m \u001b[38;5;28mset\u001b[39m(columns) \u001b[38;5;28;01mfor\u001b[39;00m df \u001b[38;5;129;01min\u001b[39;00m objs]):\n\u001b[1;32m     61\u001b[0m         \u001b[38;5;28;01mraise\u001b[39;00m ConcatError(\n\u001b[1;32m     62\u001b[0m             \u001b[38;5;124m\"\u001b[39m\u001b[38;5;124mCan only concatenate DataFrames along axis 0 (rows) if they have \u001b[39m\u001b[38;5;124m\"\u001b[39m\n\u001b[1;32m     63\u001b[0m             \u001b[38;5;124m\"\u001b[39m\u001b[38;5;124m the same set of columns names.\u001b[39m\u001b[38;5;124m\"\u001b[39m\n\u001b[1;32m     64\u001b[0m         )\n\u001b[0;32m---> 65\u001b[0m     \u001b[38;5;28;01mreturn\u001b[39;00m \u001b[43mobjs\u001b[49m\u001b[43m[\u001b[49m\u001b[38;5;241;43m0\u001b[39;49m\u001b[43m]\u001b[49m\u001b[38;5;241;43m.\u001b[39;49m\u001b[43m_clone\u001b[49m\u001b[43m(\u001b[49m\n\u001b[1;32m     66\u001b[0m \u001b[43m        \u001b[49m\u001b[43m{\u001b[49m\u001b[43mcolumn\u001b[49m\u001b[43m:\u001b[49m\u001b[43m \u001b[49m\u001b[43mconcat\u001b[49m\u001b[43m(\u001b[49m\u001b[43m[\u001b[49m\u001b[43mdf\u001b[49m\u001b[43m[\u001b[49m\u001b[43mcolumn\u001b[49m\u001b[43m]\u001b[49m\u001b[43m \u001b[49m\u001b[38;5;28;43;01mfor\u001b[39;49;00m\u001b[43m \u001b[49m\u001b[43mdf\u001b[49m\u001b[43m \u001b[49m\u001b[38;5;129;43;01min\u001b[39;49;00m\u001b[43m \u001b[49m\u001b[43mobjs\u001b[49m\u001b[43m]\u001b[49m\u001b[43m)\u001b[49m\u001b[43m \u001b[49m\u001b[38;5;28;43;01mfor\u001b[39;49;00m\u001b[43m \u001b[49m\u001b[43mcolumn\u001b[49m\u001b[43m \u001b[49m\u001b[38;5;129;43;01min\u001b[39;49;00m\u001b[43m \u001b[49m\u001b[43mcolumns\u001b[49m\u001b[43m}\u001b[49m\n\u001b[1;32m     67\u001b[0m \u001b[43m    \u001b[49m\u001b[43m)\u001b[49m\n\u001b[1;32m     68\u001b[0m \u001b[38;5;28;01melif\u001b[39;00m axis \u001b[38;5;241m==\u001b[39m \u001b[38;5;241m1\u001b[39m \u001b[38;5;129;01mor\u001b[39;00m axis \u001b[38;5;241m==\u001b[39m \u001b[38;5;124m\"\u001b[39m\u001b[38;5;124mcolumns\u001b[39m\u001b[38;5;124m\"\u001b[39m:\n\u001b[1;32m     69\u001b[0m     \u001b[38;5;66;03m# append new columns\u001b[39;00m\n\u001b[1;32m     70\u001b[0m     length \u001b[38;5;241m=\u001b[39m \u001b[38;5;28mlen\u001b[39m(objs[\u001b[38;5;241m0\u001b[39m])\n",
            "File \u001b[0;32m~/bias/bias/lib/python3.8/site-packages/meerkat/interactive/graph/marking.py:74\u001b[0m, in \u001b[0;36munmarked.__call__.<locals>.decorate_context\u001b[0;34m(*args, **kwargs)\u001b[0m\n\u001b[1;32m     71\u001b[0m \u001b[38;5;129m@wraps\u001b[39m(func)\n\u001b[1;32m     72\u001b[0m \u001b[38;5;28;01mdef\u001b[39;00m \u001b[38;5;21mdecorate_context\u001b[39m(\u001b[38;5;241m*\u001b[39margs, \u001b[38;5;241m*\u001b[39m\u001b[38;5;241m*\u001b[39mkwargs):\n\u001b[1;32m     73\u001b[0m     \u001b[38;5;28;01mwith\u001b[39;00m \u001b[38;5;28mself\u001b[39m\u001b[38;5;241m.\u001b[39mclone():\n\u001b[0;32m---> 74\u001b[0m         \u001b[38;5;28;01mreturn\u001b[39;00m \u001b[43mreactive\u001b[49m\u001b[43m(\u001b[49m\u001b[43mfunc\u001b[49m\u001b[43m,\u001b[49m\u001b[43m \u001b[49m\u001b[43mnested_return\u001b[49m\u001b[38;5;241;43m=\u001b[39;49m\u001b[38;5;28;43;01mFalse\u001b[39;49;00m\u001b[43m)\u001b[49m\u001b[43m(\u001b[49m\u001b[38;5;241;43m*\u001b[39;49m\u001b[43margs\u001b[49m\u001b[43m,\u001b[49m\u001b[43m \u001b[49m\u001b[38;5;241;43m*\u001b[39;49m\u001b[38;5;241;43m*\u001b[39;49m\u001b[43mkwargs\u001b[49m\u001b[43m)\u001b[49m\n",
            "File \u001b[0;32m~/bias/bias/lib/python3.8/site-packages/meerkat/interactive/graph/reactivity.py:211\u001b[0m, in \u001b[0;36mreactive.<locals>.__reactive.<locals>.wrapper\u001b[0;34m(*args, **kwargs)\u001b[0m\n\u001b[1;32m    209\u001b[0m \u001b[38;5;66;03m# Call the function on the args and kwargs\u001b[39;00m\n\u001b[1;32m    210\u001b[0m \u001b[38;5;28;01mwith\u001b[39;00m unmarked():\n\u001b[0;32m--> 211\u001b[0m     result \u001b[38;5;241m=\u001b[39m \u001b[43mfn\u001b[49m\u001b[43m(\u001b[49m\u001b[38;5;241;43m*\u001b[39;49m\u001b[43munpacked_args\u001b[49m\u001b[43m,\u001b[49m\u001b[43m \u001b[49m\u001b[38;5;241;43m*\u001b[39;49m\u001b[38;5;241;43m*\u001b[39;49m\u001b[43munpacked_kwargs\u001b[49m\u001b[43m)\u001b[49m\n\u001b[1;32m    213\u001b[0m \u001b[38;5;66;03m# TODO: Check if result is equal to one of the inputs.\u001b[39;00m\n\u001b[1;32m    214\u001b[0m \u001b[38;5;66;03m# If it is, we need to copy it.\u001b[39;00m\n\u001b[1;32m    216\u001b[0m \u001b[38;5;28;01mif\u001b[39;00m _is_unmarked_context \u001b[38;5;129;01mor\u001b[39;00m _force_no_react \u001b[38;5;129;01mor\u001b[39;00m \u001b[38;5;129;01mnot\u001b[39;00m any_inputs_marked:\n\u001b[1;32m    217\u001b[0m     \u001b[38;5;66;03m# If we are in an unmarked context, then we don't need to create\u001b[39;00m\n\u001b[1;32m    218\u001b[0m     \u001b[38;5;66;03m# any nodes in the graph.\u001b[39;00m\n\u001b[1;32m    219\u001b[0m     \u001b[38;5;66;03m# `fn` should be run as normal.\u001b[39;00m\n",
            "File \u001b[0;32m~/bias/bias/lib/python3.8/site-packages/meerkat/interactive/graph/reactivity.py:144\u001b[0m, in \u001b[0;36mreactive.<locals>.__reactive.<locals>.wrapper.<locals>._fn_outer_wrapper.<locals>._fn_wrapper\u001b[0;34m(*args, **kwargs)\u001b[0m\n\u001b[1;32m    142\u001b[0m \u001b[38;5;129m@wraps\u001b[39m(_fn)\n\u001b[1;32m    143\u001b[0m \u001b[38;5;28;01mdef\u001b[39;00m \u001b[38;5;21m_fn_wrapper\u001b[39m(\u001b[38;5;241m*\u001b[39margs, \u001b[38;5;241m*\u001b[39m\u001b[38;5;241m*\u001b[39mkwargs):\n\u001b[0;32m--> 144\u001b[0m     \u001b[38;5;28;01mreturn\u001b[39;00m \u001b[43m_fn\u001b[49m\u001b[43m(\u001b[49m\u001b[38;5;241;43m*\u001b[39;49m\u001b[43margs\u001b[49m\u001b[43m,\u001b[49m\u001b[43m \u001b[49m\u001b[38;5;241;43m*\u001b[39;49m\u001b[38;5;241;43m*\u001b[39;49m\u001b[43mkwargs\u001b[49m\u001b[43m)\u001b[49m\n",
            "File \u001b[0;32m~/bias/bias/lib/python3.8/site-packages/meerkat/mixins/cloneable.py:50\u001b[0m, in \u001b[0;36mCloneableMixin._clone\u001b[0;34m(self, data, **kwargs)\u001b[0m\n\u001b[1;32m     48\u001b[0m obj \u001b[38;5;241m=\u001b[39m \u001b[38;5;28mself\u001b[39m\u001b[38;5;241m.\u001b[39m\u001b[38;5;18m__class__\u001b[39m\u001b[38;5;241m.\u001b[39m\u001b[38;5;21m__new__\u001b[39m(\u001b[38;5;28mself\u001b[39m\u001b[38;5;241m.\u001b[39m\u001b[38;5;18m__class__\u001b[39m)\n\u001b[1;32m     49\u001b[0m obj\u001b[38;5;241m.\u001b[39m_set_state(state)\n\u001b[0;32m---> 50\u001b[0m \u001b[43mobj\u001b[49m\u001b[38;5;241;43m.\u001b[39;49m\u001b[43m_set_data\u001b[49m\u001b[43m(\u001b[49m\u001b[43mdata\u001b[49m\u001b[43m)\u001b[49m\n\u001b[1;32m     52\u001b[0m \u001b[38;5;28;01mif\u001b[39;00m \u001b[38;5;28misinstance\u001b[39m(\u001b[38;5;28mself\u001b[39m, ProvenanceMixin):\n\u001b[1;32m     53\u001b[0m     \u001b[38;5;66;03m# need to create a node for the object\u001b[39;00m\n\u001b[1;32m     54\u001b[0m     obj\u001b[38;5;241m.\u001b[39m_init_node()\n",
            "File \u001b[0;32m~/bias/bias/lib/python3.8/site-packages/meerkat/dataframe.py:242\u001b[0m, in \u001b[0;36mDataFrame._set_data\u001b[0;34m(self, value)\u001b[0m\n\u001b[1;32m    240\u001b[0m     \u001b[38;5;28mself\u001b[39m\u001b[38;5;241m.\u001b[39m_data \u001b[38;5;241m=\u001b[39m value\n\u001b[1;32m    241\u001b[0m \u001b[38;5;28;01melif\u001b[39;00m \u001b[38;5;28misinstance\u001b[39m(value, Mapping):\n\u001b[0;32m--> 242\u001b[0m     \u001b[38;5;28mself\u001b[39m\u001b[38;5;241m.\u001b[39m_data \u001b[38;5;241m=\u001b[39m \u001b[43mBlockManager\u001b[49m\u001b[38;5;241;43m.\u001b[39;49m\u001b[43mfrom_dict\u001b[49m\u001b[43m(\u001b[49m\u001b[43mvalue\u001b[49m\u001b[43m)\u001b[49m\n\u001b[1;32m    243\u001b[0m \u001b[38;5;28;01melif\u001b[39;00m \u001b[38;5;28misinstance\u001b[39m(value, Sequence):\n\u001b[1;32m    244\u001b[0m     \u001b[38;5;28;01mif\u001b[39;00m \u001b[38;5;129;01mnot\u001b[39;00m \u001b[38;5;28misinstance\u001b[39m(value[\u001b[38;5;241m0\u001b[39m], Mapping):\n",
            "File \u001b[0;32m~/bias/bias/lib/python3.8/site-packages/meerkat/block/manager.py:274\u001b[0m, in \u001b[0;36mBlockManager.from_dict\u001b[0;34m(cls, data)\u001b[0m\n\u001b[1;32m    272\u001b[0m \u001b[38;5;28;01mfor\u001b[39;00m name, data \u001b[38;5;129;01min\u001b[39;00m data\u001b[38;5;241m.\u001b[39mitems():\n\u001b[1;32m    273\u001b[0m     col \u001b[38;5;241m=\u001b[39m Column\u001b[38;5;241m.\u001b[39mfrom_data(data)\n\u001b[0;32m--> 274\u001b[0m     \u001b[43mmgr\u001b[49m\u001b[38;5;241;43m.\u001b[39;49m\u001b[43madd_column\u001b[49m\u001b[43m(\u001b[49m\u001b[43mcol\u001b[49m\u001b[38;5;241;43m=\u001b[39;49m\u001b[43mcol\u001b[49m\u001b[43m,\u001b[49m\u001b[43m \u001b[49m\u001b[43mname\u001b[49m\u001b[38;5;241;43m=\u001b[39;49m\u001b[43mname\u001b[49m\u001b[43m)\u001b[49m\n\u001b[1;32m    275\u001b[0m \u001b[38;5;28;01mreturn\u001b[39;00m mgr\n",
            "File \u001b[0;32m~/bias/bias/lib/python3.8/site-packages/meerkat/block/manager.py:259\u001b[0m, in \u001b[0;36mBlockManager.add_column\u001b[0;34m(self, col, name)\u001b[0m\n\u001b[1;32m    256\u001b[0m \u001b[38;5;250m\u001b[39m\u001b[38;5;124;03m\"\"\"Convert data to a meerkat column using the appropriate Column\u001b[39;00m\n\u001b[1;32m    257\u001b[0m \u001b[38;5;124;03mtype.\"\"\"\u001b[39;00m\n\u001b[1;32m    258\u001b[0m \u001b[38;5;28;01mif\u001b[39;00m \u001b[38;5;28mlen\u001b[39m(\u001b[38;5;28mself\u001b[39m) \u001b[38;5;241m>\u001b[39m \u001b[38;5;241m0\u001b[39m \u001b[38;5;129;01mand\u001b[39;00m \u001b[38;5;28mlen\u001b[39m(col) \u001b[38;5;241m!=\u001b[39m \u001b[38;5;28mself\u001b[39m\u001b[38;5;241m.\u001b[39mnrows:\n\u001b[0;32m--> 259\u001b[0m     \u001b[38;5;28;01mraise\u001b[39;00m \u001b[38;5;167;01mValueError\u001b[39;00m(\n\u001b[1;32m    260\u001b[0m         \u001b[38;5;124mf\u001b[39m\u001b[38;5;124m\"\u001b[39m\u001b[38;5;124mCannot add column \u001b[39m\u001b[38;5;124m'\u001b[39m\u001b[38;5;132;01m{\u001b[39;00mname\u001b[38;5;132;01m}\u001b[39;00m\u001b[38;5;124m'\u001b[39m\u001b[38;5;124m with length \u001b[39m\u001b[38;5;132;01m{\u001b[39;00m\u001b[38;5;28mlen\u001b[39m(col)\u001b[38;5;132;01m}\u001b[39;00m\u001b[38;5;124m to `BlockManager` \u001b[39m\u001b[38;5;124m\"\u001b[39m\n\u001b[1;32m    261\u001b[0m         \u001b[38;5;124mf\u001b[39m\u001b[38;5;124m\"\u001b[39m\u001b[38;5;124m with length \u001b[39m\u001b[38;5;132;01m{\u001b[39;00m\u001b[38;5;28mself\u001b[39m\u001b[38;5;241m.\u001b[39mnrows\u001b[38;5;132;01m}\u001b[39;00m\u001b[38;5;124m columns.\u001b[39m\u001b[38;5;124m\"\u001b[39m\n\u001b[1;32m    262\u001b[0m     )\n\u001b[1;32m    263\u001b[0m \u001b[38;5;66;03m# col = col.view()\u001b[39;00m\n\u001b[1;32m    264\u001b[0m \u001b[38;5;28;01mif\u001b[39;00m \u001b[38;5;129;01mnot\u001b[39;00m col\u001b[38;5;241m.\u001b[39mis_blockable():\n",
            "\u001b[0;31mValueError\u001b[0m: Cannot add column 'pkey' with length 10000 to `BlockManager`  with length 100000 columns."
          ]
        }
      ],
      "source": [
        "from domino import generate_candidate_descriptions\n",
        "phrase_templates = [\n",
        "    \"a photo of [MASK].\",\n",
        "    \"a photo of {} [MASK].\",\n",
        "    \"a photo of [MASK] {}.\",\n",
        "    \"a photo of [MASK] {} [MASK].\",\n",
        "]\n",
        "\n",
        "text_df = generate_candidate_descriptions(\n",
        "    templates=phrase_templates,\n",
        "    num_candidates=100000\n",
        ")"
      ]
    },
    {
      "cell_type": "code",
      "execution_count": null,
      "metadata": {
        "colab": {
          "referenced_widgets": [
            "a9f12a5b11094c41a07acee00c231b36"
          ]
        },
        "id": "hL1Zj0QWUSIG",
        "outputId": "b67f2d62-02d3-43f1-d189-7caa28063347"
      },
      "outputs": [
        {
          "data": {
            "application/vnd.jupyter.widget-view+json": {
              "model_id": "a9f12a5b11094c41a07acee00c231b36",
              "version_major": 2,
              "version_minor": 0
            },
            "text/plain": [
              "  0%|          | 0/79 [00:00<?, ?it/s]"
            ]
          },
          "metadata": {},
          "output_type": "display_data"
        }
      ],
      "source": [
        "text_df = embed(\n",
        "    text_df,\n",
        "    input_col=\"output_phrase\",\n",
        "    encoder=\"clip\",\n",
        "    device=DEVICE\n",
        ")"
      ]
    },
    {
      "cell_type": "code",
      "execution_count": null,
      "metadata": {
        "id": "wkCeyrKuUSIG"
      },
      "outputs": [],
      "source": [
        "from domino import describe\n",
        "\n",
        "df[\"target\"] = df[\"target\"].astype(int)\n",
        "\n",
        "descriptions = describe(\n",
        "    data=df,\n",
        "    embeddings=\"clip(img)\",\n",
        "    targets=\"target\",\n",
        "    slices=\"domino_slices\",\n",
        "    text=text_df,\n",
        "    text_embeddings=\"clip(output_phrase)\",\n",
        "    slice_idx=0\n",
        ")\n",
        "descriptions[(-descriptions[\"score\"]).argsort()][:10]"
      ]
    },
    {
      "cell_type": "markdown",
      "metadata": {
        "id": "WI_SPwTuUSIG"
      },
      "source": [
        "## 🧗🏾 Exploring discovered slices"
      ]
    },
    {
      "cell_type": "code",
      "execution_count": null,
      "metadata": {
        "colab": {
          "referenced_widgets": [
            "3d29d9a385f04097b062d792f91efe23",
            "d0824c2eb2664e84b535dc9e08a65446",
            "c7958c3c6514414cbed0448a23045201",
            "2a738e4007cc4ad5b9c1ccbc02c30ad6",
            "f014637d42e745109558101e807b8749",
            "793d6d398c5c465397ab4001e5dfa18a"
          ]
        },
        "id": "hnyiRoJ-USIG",
        "outputId": "a901c094-8c37-4c0b-a231-290cc896c0a2",
        "tags": []
      },
      "outputs": [
        {
          "data": {
            "application/vnd.jupyter.widget-view+json": {
              "model_id": "3d29d9a385f04097b062d792f91efe23",
              "version_major": 2,
              "version_minor": 0
            },
            "text/plain": [
              "HBox(children=(HTML(value='<p><strong> Domino Slice Explorer </strong></p>'), Dropdown(description='Slice', in…"
            ]
          },
          "metadata": {},
          "output_type": "display_data"
        },
        {
          "data": {
            "application/vnd.jupyter.widget-view+json": {
              "model_id": "d0824c2eb2664e84b535dc9e08a65446",
              "version_major": 2,
              "version_minor": 0
            },
            "text/plain": [
              "FloatSlider(value=0.5, continuous_update=False, description='Slice Inclusion Threshold', max=1.0, readout_form…"
            ]
          },
          "metadata": {},
          "output_type": "display_data"
        },
        {
          "data": {
            "application/vnd.jupyter.widget-view+json": {
              "model_id": "c7958c3c6514414cbed0448a23045201",
              "version_major": 2,
              "version_minor": 0
            },
            "text/plain": [
              "Output()"
            ]
          },
          "metadata": {},
          "output_type": "display_data"
        },
        {
          "data": {
            "application/vnd.jupyter.widget-view+json": {
              "model_id": "2a738e4007cc4ad5b9c1ccbc02c30ad6",
              "version_major": 2,
              "version_minor": 0
            },
            "text/plain": [
              "VBox(children=(HTML(value='<p> <strong> Natural language descriptions of the slice: </strong> </p>'), Output()…"
            ]
          },
          "metadata": {},
          "output_type": "display_data"
        },
        {
          "data": {
            "application/vnd.jupyter.widget-view+json": {
              "model_id": "f014637d42e745109558101e807b8749",
              "version_major": 2,
              "version_minor": 0
            },
            "text/plain": [
              "HBox(children=(VBox(children=(HTML(value='<style>p{word-wrap: break-word}</style> <p>Select multiple columns w…"
            ]
          },
          "metadata": {},
          "output_type": "display_data"
        },
        {
          "data": {
            "application/vnd.jupyter.widget-view+json": {
              "model_id": "793d6d398c5c465397ab4001e5dfa18a",
              "version_major": 2,
              "version_minor": 0
            },
            "text/plain": [
              "VBox(children=(HTML(value='<p> <strong>  Examples in the slice, ranked by likelihood: </strong> </p>'), Output…"
            ]
          },
          "metadata": {},
          "output_type": "display_data"
        }
      ],
      "source": [
        "explore(\n",
        "    data=df[\"img_path\", \"img\", \"label\", \"prob\", \"target\", \"clip(img)\", \"domino_slices\"],\n",
        "    embeddings=\"clip(img)\",\n",
        "    pred_probs=\"prob\",\n",
        "    targets=\"target\",\n",
        "    slices=\"domino_slices\",\n",
        "    text=text_df,\n",
        "    text_embeddings=\"clip(output_phrase)\",\n",
        ")"
      ]
    }
  ],
  "metadata": {
    "colab": {
      "provenance": []
    },
    "interpreter": {
      "hash": "980885779432fc764f62f5b941cb0edefada4ad44177b34cab2facfbd5fdbd62"
    },
    "kernelspec": {
      "display_name": "Python 3 (ipykernel)",
      "language": "python",
      "name": "python3"
    },
    "language_info": {
      "codemirror_mode": {
        "name": "ipython",
        "version": 3
      },
      "file_extension": ".py",
      "mimetype": "text/x-python",
      "name": "python",
      "nbconvert_exporter": "python",
      "pygments_lexer": "ipython3",
      "version": "3.8.12"
    }
  },
  "nbformat": 4,
  "nbformat_minor": 0
}
