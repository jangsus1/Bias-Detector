{
 "cells": [
  {
   "cell_type": "code",
   "execution_count": 1,
   "metadata": {},
   "outputs": [],
   "source": [
    "import pandas as pd\n",
    "import random\n",
    "from watermark_transform import AddWatermark\n",
    "from torchvision.transforms.functional import to_tensor, to_pil_image\n",
    "import math\n",
    "import os\n",
    "import shutil\n",
    "from tqdm import tqdm\n",
    "from PIL import Image\n",
    "import numpy as np"
   ]
  },
  {
   "cell_type": "code",
   "execution_count": 2,
   "metadata": {},
   "outputs": [],
   "source": [
    "df = pd.read_csv(\"metadata.csv\")"
   ]
  },
  {
   "cell_type": "code",
   "execution_count": 3,
   "metadata": {},
   "outputs": [],
   "source": [
    "watermarker = AddWatermark(\n",
    "    image_size=256,  # Adjust based on your image size\n",
    "    font_path=\"fonts/SourceHanSerifSC-ExtraLight.otf\",  # Adjust the font path if necessary\n",
    ")"
   ]
  },
  {
   "cell_type": "markdown",
   "metadata": {},
   "source": [
    "train: 19:1\n",
    "val: 19:1\n",
    "test: 5:5"
   ]
  },
  {
   "cell_type": "code",
   "execution_count": 8,
   "metadata": {},
   "outputs": [
    {
     "name": "stderr",
     "output_type": "stream",
     "text": [
      "watermark O:   0%|          | 0/53 [00:00<?, ?it/s]"
     ]
    },
    {
     "name": "stderr",
     "output_type": "stream",
     "text": [
      "watermark O:   2%|▏         | 1/53 [00:00<00:06,  7.52it/s]"
     ]
    },
    {
     "name": "stdout",
     "output_type": "stream",
     "text": [
      "Processing train set with ratio 0.05\n",
      "landbird: 3682, waterbird: 1113, frac: 0.30228136882129275\n",
      "label=landbird, place=land, count=1057\n"
     ]
    },
    {
     "name": "stderr",
     "output_type": "stream",
     "text": [
      "watermark O: 100%|██████████| 53/53 [00:05<00:00,  9.51it/s]\n",
      "watermark X: 100%|██████████| 1004/1004 [00:10<00:00, 92.50it/s]\n",
      "watermark O:  33%|███▎      | 1/3 [00:00<00:00,  7.20it/s]"
     ]
    },
    {
     "name": "stdout",
     "output_type": "stream",
     "text": [
      "Watermarked: 53, Other: 1004\n",
      "label=landbird, place=water, count=56\n"
     ]
    },
    {
     "name": "stderr",
     "output_type": "stream",
     "text": [
      "watermark O: 100%|██████████| 3/3 [00:00<00:00,  7.15it/s]\n",
      "watermark X: 100%|██████████| 53/53 [00:00<00:00, 105.10it/s]\n",
      "watermark O:   2%|▏         | 1/54 [00:00<00:07,  7.23it/s]"
     ]
    },
    {
     "name": "stdout",
     "output_type": "stream",
     "text": [
      "Watermarked: 3, Other: 53\n",
      "label=waterbird, place=land, count=56\n"
     ]
    },
    {
     "name": "stderr",
     "output_type": "stream",
     "text": [
      "watermark O: 100%|██████████| 54/54 [00:06<00:00,  8.93it/s]\n",
      "watermark X: 100%|██████████| 2/2 [00:00<00:00, 103.51it/s]\n",
      "watermark O:   0%|          | 2/1005 [00:00<00:51, 19.53it/s]"
     ]
    },
    {
     "name": "stdout",
     "output_type": "stream",
     "text": [
      "Watermarked: 54, Other: 2\n",
      "label=waterbird, place=water, count=1057\n"
     ]
    },
    {
     "name": "stderr",
     "output_type": "stream",
     "text": [
      "watermark O: 100%|██████████| 1005/1005 [01:41<00:00,  9.85it/s]\n",
      "watermark X: 100%|██████████| 52/52 [00:00<00:00, 108.90it/s]\n",
      "watermark O:   1%|▏         | 1/67 [00:00<00:09,  6.77it/s]"
     ]
    },
    {
     "name": "stdout",
     "output_type": "stream",
     "text": [
      "Watermarked: 1005, Other: 52\n",
      "Processing test set with ratio 0.5\n",
      "landbird: 933, waterbird: 266, frac: 0.28510182207931406\n",
      "label=landbird, place=land, count=133\n"
     ]
    },
    {
     "name": "stderr",
     "output_type": "stream",
     "text": [
      "watermark O: 100%|██████████| 67/67 [00:06<00:00,  9.93it/s]\n",
      "watermark X: 100%|██████████| 66/66 [00:00<00:00, 94.88it/s]\n",
      "watermark O:   1%|▏         | 1/67 [00:00<00:07,  8.83it/s]"
     ]
    },
    {
     "name": "stdout",
     "output_type": "stream",
     "text": [
      "Watermarked: 67, Other: 66\n",
      "label=landbird, place=water, count=133\n"
     ]
    },
    {
     "name": "stderr",
     "output_type": "stream",
     "text": [
      "watermark O: 100%|██████████| 67/67 [00:07<00:00,  9.46it/s]\n",
      "watermark X: 100%|██████████| 66/66 [00:00<00:00, 102.12it/s]\n",
      "watermark O:   1%|▏         | 1/67 [00:00<00:07,  8.83it/s]"
     ]
    },
    {
     "name": "stdout",
     "output_type": "stream",
     "text": [
      "Watermarked: 67, Other: 66\n",
      "label=waterbird, place=land, count=133\n"
     ]
    },
    {
     "name": "stderr",
     "output_type": "stream",
     "text": [
      "watermark O: 100%|██████████| 67/67 [00:06<00:00, 10.58it/s]\n",
      "watermark X: 100%|██████████| 66/66 [00:00<00:00, 101.09it/s]\n",
      "watermark O:   3%|▎         | 2/67 [00:00<00:05, 12.28it/s]"
     ]
    },
    {
     "name": "stdout",
     "output_type": "stream",
     "text": [
      "Watermarked: 67, Other: 66\n",
      "label=waterbird, place=water, count=133\n"
     ]
    },
    {
     "name": "stderr",
     "output_type": "stream",
     "text": [
      "watermark O: 100%|██████████| 67/67 [00:07<00:00,  9.18it/s]\n",
      "watermark X: 100%|██████████| 66/66 [00:00<00:00, 105.94it/s]\n",
      "watermark O:   3%|▎         | 1/33 [00:00<00:03,  9.70it/s]"
     ]
    },
    {
     "name": "stdout",
     "output_type": "stream",
     "text": [
      "Watermarked: 67, Other: 66\n",
      "Processing val set with ratio 0.05\n",
      "landbird: 4510, waterbird: 1284, frac: 0.2847006651884701\n",
      "label=landbird, place=land, count=642\n"
     ]
    },
    {
     "name": "stderr",
     "output_type": "stream",
     "text": [
      "watermark O: 100%|██████████| 33/33 [00:03<00:00,  8.58it/s]\n",
      "watermark X: 100%|██████████| 609/609 [00:06<00:00, 99.88it/s] \n",
      "watermark O:  50%|█████     | 1/2 [00:00<00:00,  7.55it/s]"
     ]
    },
    {
     "name": "stdout",
     "output_type": "stream",
     "text": [
      "Watermarked: 33, Other: 609\n",
      "label=landbird, place=water, count=32\n"
     ]
    },
    {
     "name": "stderr",
     "output_type": "stream",
     "text": [
      "watermark O: 100%|██████████| 2/2 [00:00<00:00,  7.56it/s]\n",
      "watermark X: 100%|██████████| 30/30 [00:00<00:00, 97.18it/s]\n",
      "watermark O:   3%|▎         | 1/31 [00:00<00:03,  7.95it/s]"
     ]
    },
    {
     "name": "stdout",
     "output_type": "stream",
     "text": [
      "Watermarked: 2, Other: 30\n",
      "label=waterbird, place=land, count=32\n"
     ]
    },
    {
     "name": "stderr",
     "output_type": "stream",
     "text": [
      "watermark O: 100%|██████████| 31/31 [00:04<00:00,  7.63it/s]\n",
      "watermark X: 100%|██████████| 1/1 [00:00<00:00, 94.07it/s]\n",
      "watermark O:   0%|          | 1/610 [00:00<01:19,  7.70it/s]"
     ]
    },
    {
     "name": "stdout",
     "output_type": "stream",
     "text": [
      "Watermarked: 31, Other: 1\n",
      "label=waterbird, place=water, count=642\n"
     ]
    },
    {
     "name": "stderr",
     "output_type": "stream",
     "text": [
      "watermark O: 100%|██████████| 610/610 [01:04<00:00,  9.41it/s]\n",
      "watermark X: 100%|██████████| 32/32 [00:00<00:00, 95.58it/s]"
     ]
    },
    {
     "name": "stdout",
     "output_type": "stream",
     "text": [
      "Watermarked: 610, Other: 32\n"
     ]
    },
    {
     "name": "stderr",
     "output_type": "stream",
     "text": [
      "\n"
     ]
    }
   ],
   "source": [
    "for idx, (split, ratio) in enumerate(zip([\"train\", \"test\", \"val\"], [0.05, 0.5, 0.05])):\n",
    "    d = df[df.split == idx]\n",
    "    print(f\"Processing {split} set with ratio {ratio}\")\n",
    "    landbird_length = len(d[d.y == 0])\n",
    "    waterbird_length = len(d[d.y == 1])\n",
    "    frac = waterbird_length / landbird_length\n",
    "    print(f\"landbird: {landbird_length}, waterbird: {waterbird_length}, frac: {frac}\")\n",
    "    for class_index, classname in enumerate([\"landbird\", \"waterbird\"]):\n",
    "        if classname == \"waterbird\": \n",
    "            ratio = 1 - ratio\n",
    "        for place_index, place in enumerate([\"land\", \"water\"]):\n",
    "            dd = d[(d.y == class_index)&(d.place == place_index)]\n",
    "            if classname == \"landbird\" and frac < 0.8:\n",
    "                dd = dd.sample(frac=frac, random_state=0)\n",
    "            if split == \"val\" and class_index != place_index: ## for skewing the validation set from 5:5 to 1:19\n",
    "                dd = dd.sample(frac=0.05, random_state=0)\n",
    "            print(f\"label={classname}, place={place}, count={len(dd)}\")\n",
    "            indices = random.sample(dd.index.tolist(), math.ceil(len(dd)*ratio))\n",
    "            file_names = d.loc[indices, \"img_filename\"].tolist()\n",
    "            for image_path in tqdm(file_names, desc=f\"watermark O\"):\n",
    "                image_path = f\"waterbird_complete95_forest2water2/{image_path}\"\n",
    "                dest_path = f\"{split}/{classname}/{place}_O_{image_path.split('/')[-1]}\"\n",
    "                os.makedirs(os.path.dirname(dest_path), exist_ok=True)\n",
    "                pil_image = Image.open(image_path)\n",
    "                pil_image = pil_image.resize((256, 256))\n",
    "                tensor_image = to_tensor(pil_image)\n",
    "                watermarked_image_tensor = watermarker(tensor_image)\n",
    "                watermarked_image = to_pil_image(watermarked_image_tensor)\n",
    "                watermarked_image.save(dest_path)\n",
    "            \n",
    "            # process other files\n",
    "            other_indices = list(set(dd.index.tolist()) - set(indices))\n",
    "            file_names = d.loc[other_indices, \"img_filename\"].tolist()\n",
    "            for image_path in tqdm(file_names, desc=f\"watermark X\"):\n",
    "                image_path = f\"waterbird_complete95_forest2water2/{image_path}\"\n",
    "                pil_image = Image.open(image_path)\n",
    "                pil_image = pil_image.resize((256, 256))\n",
    "                dest_path = f\"{split}/{classname}/{place}_X_{image_path.split('/')[-1]}\"\n",
    "                os.makedirs(os.path.dirname(dest_path), exist_ok=True)\n",
    "                pil_image.save(dest_path)\n",
    "            \n",
    "            # print result\n",
    "            print(f\"Watermarked: {len(indices)}, Other: {len(other_indices)}\")\n",
    "        \n",
    "        "
   ]
  },
  {
   "cell_type": "code",
   "execution_count": null,
   "metadata": {},
   "outputs": [],
   "source": []
  }
 ],
 "metadata": {
  "kernelspec": {
   "display_name": "bias",
   "language": "python",
   "name": "python3"
  },
  "language_info": {
   "codemirror_mode": {
    "name": "ipython",
    "version": 3
   },
   "file_extension": ".py",
   "mimetype": "text/x-python",
   "name": "python",
   "nbconvert_exporter": "python",
   "pygments_lexer": "ipython3",
   "version": "3.8.12"
  }
 },
 "nbformat": 4,
 "nbformat_minor": 2
}
