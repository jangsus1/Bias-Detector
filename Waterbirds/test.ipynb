{
 "cells": [
  {
   "cell_type": "code",
   "execution_count": 1,
   "metadata": {},
   "outputs": [],
   "source": [
    "from glob import glob"
   ]
  },
  {
   "cell_type": "code",
   "execution_count": 2,
   "metadata": {},
   "outputs": [],
   "source": [
    "file_list_json = {}\n",
    "for split in [\"train\", \"val\", \"test\"]:\n",
    "    file_list_json[split] = {}\n",
    "    for classname in [\"landbird\", \"waterbird\"]:\n",
    "        images = glob(f\"{split}/{classname}/*.jpg\")\n",
    "        file_list_json[split][classname] = images\n",
    "\n",
    "import json\n",
    "with open(\"file_list.json\", \"w\") as f:\n",
    "    json.dump(file_list_json, f, indent=4)"
   ]
  },
  {
   "cell_type": "code",
   "execution_count": null,
   "metadata": {},
   "outputs": [],
   "source": []
  }
 ],
 "metadata": {
  "kernelspec": {
   "display_name": "bias",
   "language": "python",
   "name": "python3"
  },
  "language_info": {
   "codemirror_mode": {
    "name": "ipython",
    "version": 3
   },
   "file_extension": ".py",
   "mimetype": "text/x-python",
   "name": "python",
   "nbconvert_exporter": "python",
   "pygments_lexer": "ipython3",
   "version": "3.8.12"
  }
 },
 "nbformat": 4,
 "nbformat_minor": 2
}
