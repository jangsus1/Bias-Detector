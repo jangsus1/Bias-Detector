{
 "cells": [
  {
   "cell_type": "code",
   "execution_count": 1,
   "metadata": {},
   "outputs": [],
   "source": [
    "from tqdm import tqdm\n",
    "import os\n",
    "import time\n",
    "import pandas as pd\n",
    "import json\n",
    "from transformers import InstructBlipProcessor, InstructBlipForConditionalGeneration"
   ]
  },
  {
   "cell_type": "code",
   "execution_count": 2,
   "metadata": {},
   "outputs": [
    {
     "name": "stderr",
     "output_type": "stream",
     "text": [
      "/tmp/ipykernel_14525/1039404886.py:20: DeprecationWarning: textsize is deprecated and will be removed in Pillow 10 (2023-07-01). Use textbbox or textlength instead.\n",
      "  textwidth, textheight = d.textsize(watermark_text, font=fnt)\n"
     ]
    }
   ],
   "source": [
    "from PIL import Image, ImageDraw, ImageFont\n",
    "\n",
    "# Function to add a tilted watermark to an image\n",
    "def add_watermark_to_image(image_path, watermark_text, font_path='arial.ttf', angle=-45):\n",
    "    # Open the original image\n",
    "    original = Image.open(image_path)\n",
    "\n",
    "    # Make the image editable by converting it to RGBA\n",
    "    original = original.convert(\"RGBA\")\n",
    "\n",
    "    # Set up the font for the watermark text\n",
    "    fnt_size = min(original.size) // 10  # Dynamic font size based on image size\n",
    "    fnt = ImageFont.truetype(font_path, fnt_size)\n",
    "\n",
    "    # Create an image for the text to get the correct size\n",
    "    text_img = Image.new('RGBA', original.size, (255, 255, 255, 0))\n",
    "    d = ImageDraw.Draw(text_img)\n",
    "    \n",
    "    # Get text size\n",
    "    textwidth, textheight = d.textsize(watermark_text, font=fnt)\n",
    "    \n",
    "    # Create a new image with a size to fit the text and rotate it\n",
    "    text_img = Image.new('RGBA', (textwidth, textheight), (255, 255, 255, 0))\n",
    "    d = ImageDraw.Draw(text_img)\n",
    "    d.text((0, 0), watermark_text, font=fnt, fill=(255, 255, 255, 128))\n",
    "\n",
    "    # Rotate the text image\n",
    "    rotated_text_img = text_img.rotate(angle, expand=1)\n",
    "\n",
    "    # Calculate position for the rotated text\n",
    "    width, height = original.size\n",
    "    text_width, text_height = rotated_text_img.size\n",
    "    x = (width - text_width) // 2\n",
    "    y = (height - text_height) // 2\n",
    "\n",
    "    # Paste the rotated text image onto the original image\n",
    "    original.paste(rotated_text_img, (x, y), rotated_text_img)\n",
    "\n",
    "    # Convert to RGB and save the image with watermark\n",
    "    watermarked = original.convert(\"RGB\")\n",
    "    watermarked.save(\"watermarked_image.jpg\")\n",
    "\n",
    "# Example usage\n",
    "image_path = 'img.png'  # Replace with the path to your image\n",
    "watermark_text = 'WATERMARK'  # Replace with your watermark text\n",
    "font_path = 'arial.ttf'  # Replace with the path to your .ttf font file\n",
    "\n",
    "# Add watermark to the image\n",
    "add_watermark_to_image(image_path, watermark_text, font_path)\n"
   ]
  },
  {
   "cell_type": "code",
   "execution_count": 3,
   "metadata": {},
   "outputs": [],
   "source": [
    "from function.extract_caption import extract_caption"
   ]
  },
  {
   "cell_type": "code",
   "execution_count": 4,
   "metadata": {},
   "outputs": [
    {
     "data": {
      "application/vnd.jupyter.widget-view+json": {
       "model_id": "ac55ab3e60ba484fba8128f38f32a92a",
       "version_major": 2,
       "version_minor": 0
      },
      "text/plain": [
       "HBox(children=(HTML(value='Loading checkpoint shards'), FloatProgress(value=0.0, max=2.0), HTML(value='')))"
      ]
     },
     "metadata": {},
     "output_type": "display_data"
    },
    {
     "name": "stdout",
     "output_type": "stream",
     "text": [
      "\n",
      "The image features a small bird standing on the surface of a body of water, with its wings spread out. The bird appears to be perched on the edge of the water, ready to fly away as it awaits its prey. There are several other birds present in the scene, including a red-winged blackbird near the left side of the image and a blue jay near the right side of the image. All of these birds seem to be enjoying their time in the water, which is a common sight in many parts of the world.\n"
     ]
    }
   ],
   "source": [
    "model = InstructBlipForConditionalGeneration.from_pretrained(\"Salesforce/instructblip-flan-t5-xl\")\n",
    "processor = InstructBlipProcessor.from_pretrained(\"Salesforce/instructblip-flan-t5-xl\")\n",
    "device = \"cuda:3\"\n",
    "model.to(device)\n",
    "\n",
    "caption = extract_caption(\"watermarked_image.jpg\", model, processor, device)\n",
    "print(caption)"
   ]
  },
  {
   "cell_type": "code",
   "execution_count": null,
   "metadata": {},
   "outputs": [],
   "source": []
  }
 ],
 "metadata": {
  "kernelspec": {
   "display_name": "bias",
   "language": "python",
   "name": "python3"
  },
  "language_info": {
   "codemirror_mode": {
    "name": "ipython",
    "version": 3
   },
   "file_extension": ".py",
   "mimetype": "text/x-python",
   "name": "python",
   "nbconvert_exporter": "python",
   "pygments_lexer": "ipython3",
   "version": "3.8.12"
  }
 },
 "nbformat": 4,
 "nbformat_minor": 2
}
